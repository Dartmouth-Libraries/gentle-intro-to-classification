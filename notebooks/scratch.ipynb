{
 "cells": [
  {
   "cell_type": "code",
   "execution_count": null,
   "metadata": {},
   "outputs": [],
   "source": [
    "import matplotlib.pyplot as plt\n",
    "\n",
    "import numpy as np\n",
    "import pandas as pd\n",
    "from sklearn.linear_model import LinearRegression\n",
    "from sklearn.preprocessing import PolynomialFeatures\n",
    "\n",
    "import seaborn as sns\n",
    "\n",
    "# Add a Dartmouth-y color theme\n",
    "import matplotlib as mpl\n",
    "dartmouth_colors = [\"#00693E\", \"#12312B\", \"#C3DD88\", \"#6EAA8D\", \"#797979\", \"#EBF3EF\"]\n",
    "mpl.rcParams.update({\n",
    "                        'figure.facecolor': \"#EBF3EF\",\n",
    "                        'figure.figsize': [7.50, 3.50],\n",
    "                        'axes.prop_cycle': mpl.cycler(color=dartmouth_colors),\n",
    "                        'axes.facecolor': \"#FFFFFF\",\n",
    "                        'axes.labelcolor': '#12312B',\n",
    "                        'text.color': '#12312B'\n",
    "                    })\n",
    "\n",
    "%config InlineBackend.figure_formats = ['svg']\n"
   ]
  },
  {
   "cell_type": "code",
   "execution_count": null,
   "metadata": {},
   "outputs": [],
   "source": [
    "penguins = sns.load_dataset('penguins').dropna()\n",
    "penguins.head()"
   ]
  },
  {
   "cell_type": "code",
   "execution_count": null,
   "metadata": {},
   "outputs": [],
   "source": [
    "sns.pairplot(penguins, hue='species')"
   ]
  },
  {
   "cell_type": "code",
   "execution_count": null,
   "metadata": {},
   "outputs": [],
   "source": [
    "plt.figure(figsize=(5, 5))\n",
    "sns.scatterplot(penguins, \n",
    "                x='body_mass_g', y='bill_length_mm',\n",
    "                hue='species')\n",
    "plt.xlabel('Body mass [g]')\n",
    "plt.ylabel('Bill length [mm]')"
   ]
  },
  {
   "cell_type": "code",
   "execution_count": null,
   "metadata": {},
   "outputs": [],
   "source": [
    "from sklearn.tree import DecisionTreeClassifier, plot_tree\n",
    "\n",
    "tree = DecisionTreeClassifier(max_depth=1).fit(X=penguins[['body_mass_g', 'bill_length_mm']], y=penguins['species'])\n",
    "\n",
    "\n",
    "plot_tree(tree, feature_names=['body_mass_g', 'bill_length_mm'], class_names=penguins['species'].unique());\n"
   ]
  },
  {
   "cell_type": "code",
   "execution_count": null,
   "metadata": {},
   "outputs": [],
   "source": [
    "from sklearn.inspection import DecisionBoundaryDisplay\n",
    "import matplotlib.colors\n",
    "\n",
    "cmap = matplotlib.colors.ListedColormap([dartmouth_colors[0], dartmouth_colors[2]])\n",
    "\n",
    "fig = plt.figure(figsize=(5, 5))\n",
    "ax = plt.subplot(1, 1, 1)\n",
    "dbd = DecisionBoundaryDisplay.from_estimator(\n",
    "        tree,\n",
    "        penguins[['body_mass_g', 'bill_length_mm']],\n",
    "        ax=ax,\n",
    "        cmap=cmap,\n",
    "        response_method=\"predict\",\n",
    "        xlabel='body_mass_g',\n",
    "        ylabel='bill_length_mm',\n",
    "    )\n",
    "\n",
    "sns.scatterplot(penguins, \n",
    "                x='body_mass_g', y='bill_length_mm',\n",
    "                hue='species',\n",
    "                ax=dbd.ax_)\n",
    "plt.xlabel('Body mass [g]')\n",
    "plt.ylabel('Bill length [mm]')"
   ]
  },
  {
   "cell_type": "code",
   "execution_count": null,
   "metadata": {},
   "outputs": [],
   "source": [
    "tree = DecisionTreeClassifier(max_depth=2).fit(X=penguins[['body_mass_g', 'bill_length_mm']], y=penguins['species'])\n",
    "\n",
    "\n",
    "plot_tree(tree, feature_names=['body_mass_g', 'bill_length_mm'], class_names=penguins['species'].unique());\n"
   ]
  },
  {
   "cell_type": "code",
   "execution_count": null,
   "metadata": {},
   "outputs": [],
   "source": [
    "cmap = matplotlib.colors.ListedColormap(dartmouth_colors[0:3])\n",
    "\n",
    "fig = plt.figure(figsize=(5, 5))\n",
    "ax = plt.subplot(1, 1, 1)\n",
    "dbd = DecisionBoundaryDisplay.from_estimator(\n",
    "        tree,\n",
    "        penguins[['body_mass_g', 'bill_length_mm']],\n",
    "        ax=ax,\n",
    "        cmap=cmap,\n",
    "        response_method=\"predict\",\n",
    "        xlabel='body_mass_g',\n",
    "        ylabel='bill_length_mm',\n",
    "    )\n",
    "\n",
    "sns.scatterplot(penguins, \n",
    "                x='body_mass_g', y='bill_length_mm',\n",
    "                hue='species',\n",
    "                ax=dbd.ax_)\n",
    "plt.xlabel('Body mass [g]')\n",
    "plt.ylabel('Bill length [mm]')"
   ]
  },
  {
   "cell_type": "code",
   "execution_count": null,
   "metadata": {},
   "outputs": [],
   "source": [
    "tree = DecisionTreeClassifier(max_depth=3).fit(X=penguins[['body_mass_g', 'bill_length_mm']], y=penguins['species'])\n",
    "\n",
    "\n",
    "plot_tree(tree, feature_names=['body_mass_g', 'bill_length_mm'], class_names=penguins['species'].unique());\n"
   ]
  },
  {
   "cell_type": "code",
   "execution_count": null,
   "metadata": {},
   "outputs": [],
   "source": [
    "cmap = matplotlib.colors.ListedColormap(dartmouth_colors[0:3])\n",
    "\n",
    "fig = plt.figure(figsize=(5, 5))\n",
    "ax = plt.subplot(1, 1, 1)\n",
    "dbd = DecisionBoundaryDisplay.from_estimator(\n",
    "        tree,\n",
    "        penguins[['body_mass_g', 'bill_length_mm']],\n",
    "        ax=ax,\n",
    "        cmap=cmap,\n",
    "        response_method=\"predict\",\n",
    "        xlabel='body_mass_g',\n",
    "        ylabel='bill_length_mm',\n",
    "    )\n",
    "\n",
    "sns.scatterplot(penguins, \n",
    "                x='body_mass_g', y='bill_length_mm',\n",
    "                hue='species',\n",
    "                ax=dbd.ax_)\n",
    "plt.xlabel('Body mass [g]')\n",
    "plt.ylabel('Bill length [mm]')"
   ]
  },
  {
   "cell_type": "code",
   "execution_count": null,
   "metadata": {},
   "outputs": [],
   "source": [
    "tree = DecisionTreeClassifier(max_depth=4).fit(X=penguins[['body_mass_g', 'bill_length_mm']], y=penguins['species'])\n",
    "\n",
    "\n",
    "plot_tree(tree, feature_names=['body_mass_g', 'bill_length_mm'], class_names=penguins['species'].unique());"
   ]
  },
  {
   "cell_type": "code",
   "execution_count": null,
   "metadata": {},
   "outputs": [],
   "source": [
    "cmap = matplotlib.colors.ListedColormap(dartmouth_colors[0:3])\n",
    "\n",
    "fig = plt.figure(figsize=(5, 5))\n",
    "ax = plt.subplot(1, 1, 1)\n",
    "dbd = DecisionBoundaryDisplay.from_estimator(\n",
    "        tree,\n",
    "        penguins[['body_mass_g', 'bill_length_mm']],\n",
    "        ax=ax,\n",
    "        cmap=cmap,\n",
    "        response_method=\"predict\",\n",
    "        xlabel='body_mass_g',\n",
    "        ylabel='bill_length_mm',\n",
    "    )\n",
    "\n",
    "sns.scatterplot(penguins, \n",
    "                x='body_mass_g', y='bill_length_mm',\n",
    "                hue='species',\n",
    "                ax=dbd.ax_)\n",
    "plt.xlabel('Body mass [g]')\n",
    "plt.ylabel('Bill length [mm]')"
   ]
  },
  {
   "cell_type": "code",
   "execution_count": null,
   "metadata": {},
   "outputs": [],
   "source": [
    "tree = DecisionTreeClassifier(max_depth=20).fit(X=penguins[['body_mass_g', 'bill_length_mm']], y=penguins['species'])\n",
    "\n",
    "\n",
    "plot_tree(tree, feature_names=['body_mass_g', 'bill_length_mm'], class_names=penguins['species'].unique());"
   ]
  },
  {
   "cell_type": "code",
   "execution_count": null,
   "metadata": {},
   "outputs": [],
   "source": [
    "cmap = matplotlib.colors.ListedColormap(dartmouth_colors[0:3])\n",
    "\n",
    "fig = plt.figure(figsize=(5, 5))\n",
    "ax = plt.subplot(1, 1, 1)\n",
    "dbd = DecisionBoundaryDisplay.from_estimator(\n",
    "        tree,\n",
    "        penguins[['body_mass_g', 'bill_length_mm']],\n",
    "        ax=ax,\n",
    "        cmap=cmap,\n",
    "        response_method=\"predict\",\n",
    "        xlabel='body_mass_g',\n",
    "        ylabel='bill_length_mm',\n",
    "    )\n",
    "\n",
    "sns.scatterplot(penguins, \n",
    "                x='body_mass_g', y='bill_length_mm',\n",
    "                hue='species',\n",
    "                ax=dbd.ax_)\n",
    "plt.xlabel('Body mass [g]')\n",
    "plt.ylabel('Bill length [mm]')"
   ]
  },
  {
   "cell_type": "code",
   "execution_count": null,
   "metadata": {},
   "outputs": [],
   "source": [
    "p = penguins.sample(3, random_state=1769)[['body_mass_g', 'bill_length_mm', 'species']]"
   ]
  },
  {
   "cell_type": "code",
   "execution_count": null,
   "metadata": {},
   "outputs": [],
   "source": [
    "p"
   ]
  },
  {
   "cell_type": "code",
   "execution_count": null,
   "metadata": {},
   "outputs": [],
   "source": [
    "plt.figure(figsize=(5, 5))\n",
    "sns.scatterplot(p, x = 'body_mass_g', y = 'bill_length_mm')\n",
    "plt.xlim([penguins.body_mass_g.min(), penguins.body_mass_g.max()])\n",
    "plt.ylim([penguins.bill_length_mm.min(), penguins.bill_length_mm.max()])\n",
    "plt.xlabel('Body mass [g]')\n",
    "plt.ylabel('Bill length [mm]')"
   ]
  },
  {
   "cell_type": "code",
   "execution_count": null,
   "metadata": {},
   "outputs": [],
   "source": [
    "plt.figure(figsize=(5, 5))\n",
    "sns.scatterplot(p, x = 'body_mass_g', y = 'bill_length_mm', hue='species')\n",
    "plt.xlim([penguins.body_mass_g.min(), penguins.body_mass_g.max()])\n",
    "plt.ylim([penguins.bill_length_mm.min(), penguins.bill_length_mm.max()])\n",
    "plt.xlabel('Body mass [g]')\n",
    "plt.ylabel('Bill length [mm]')"
   ]
  },
  {
   "cell_type": "code",
   "execution_count": null,
   "metadata": {},
   "outputs": [],
   "source": [
    "p = penguins.sample(20, random_state=1769)[['body_mass_g', 'bill_length_mm', 'species']]\n",
    "plt.figure(figsize=(5, 5))\n",
    "sns.scatterplot(p, x = 'body_mass_g', y = 'bill_length_mm', hue='species')\n",
    "plt.xlim([penguins.body_mass_g.min(), penguins.body_mass_g.max()])\n",
    "plt.ylim([penguins.bill_length_mm.min(), penguins.bill_length_mm.max()])\n",
    "plt.xlabel('Body mass [g]')\n",
    "plt.ylabel('Bill length [mm]')"
   ]
  },
  {
   "cell_type": "code",
   "execution_count": null,
   "metadata": {},
   "outputs": [],
   "source": [
    "plt.step([0, 0.5, 1], [0, 0, 1])\n",
    "plt.xlabel('Pseudo-feature')\n",
    "plt.ylabel('Activation')\n",
    "         "
   ]
  },
  {
   "cell_type": "code",
   "execution_count": null,
   "metadata": {},
   "outputs": [],
   "source": [
    "x = np.linspace(-6, 6, 30)\n",
    "y = 1 / (1 + np.exp(-x))\n",
    "plt.figure(figsize=(3, 3))\n",
    "plt.plot(x, y)\n",
    "plt.xlabel('Pseudo-feature')\n",
    "plt.ylabel('Activation')\n",
    "         "
   ]
  },
  {
   "cell_type": "code",
   "execution_count": null,
   "metadata": {},
   "outputs": [],
   "source": [
    "# Encode categorial variables\n",
    "penguins.sex = penguins.sex.astype('category').cat.codes\n",
    "penguins.island = penguins.island.astype('category').cat.codes"
   ]
  },
  {
   "cell_type": "code",
   "execution_count": null,
   "metadata": {},
   "outputs": [],
   "source": [
    "from sklearn.model_selection import train_test_split\n",
    "\n",
    "X_train, X_test = train_test_split(penguins, test_size=0.1)\n",
    "\n",
    "\n"
   ]
  },
  {
   "cell_type": "code",
   "execution_count": null,
   "metadata": {},
   "outputs": [],
   "source": [
    "from sklearn.neighbors import KNeighborsClassifier\n",
    "from sklearn.preprocessing import StandardScaler\n",
    "\n",
    "features = ['island', 'bill_depth_mm', 'flipper_length_mm', 'body_mass_g', 'sex']\n",
    "target = 'species'\n",
    "\n",
    "scaler = StandardScaler().fit(X_train[features])\n",
    "X_train[features] = scaler.transform(X_train[features])\n",
    "X_test[features] = scaler.transform(X_test[features])\n",
    "\n",
    "knn = KNeighborsClassifier().fit(X_train[features], X_train[target])"
   ]
  },
  {
   "cell_type": "code",
   "execution_count": null,
   "metadata": {},
   "outputs": [],
   "source": [
    "knn.score(X_test[features], X_test[target])"
   ]
  },
  {
   "cell_type": "code",
   "execution_count": null,
   "metadata": {},
   "outputs": [],
   "source": [
    "from sklearn.model_selection import GridSearchCV\n",
    "from sklearn.metrics import classification_report\n",
    "\n",
    "candidates = {\n",
    "    'n_neighbors': [1, 2, 3, 4, 5, 6, 7, 8, 9, 10],\n",
    "    'weights': ['uniform', 'distance']\n",
    "}\n",
    "\n",
    "knn = GridSearchCV(KNeighborsClassifier(), param_grid=candidates, verbose=1).fit(X_train[features], X_train[target])\n",
    "print(knn.best_params_)\n",
    "print(classification_report(X_test[target], knn.predict(X_test[features])))"
   ]
  },
  {
   "cell_type": "code",
   "execution_count": null,
   "metadata": {},
   "outputs": [],
   "source": [
    "from sklearn.metrics import ConfusionMatrixDisplay\n",
    "\n",
    "ConfusionMatrixDisplay.from_estimator(knn, X_test[features], X_test[target])"
   ]
  },
  {
   "cell_type": "code",
   "execution_count": null,
   "metadata": {},
   "outputs": [],
   "source": [
    "from sklearn.tree import DecisionTreeClassifier\n",
    "\n",
    "dt = DecisionTreeClassifier(max_depth=5).fit(X_train[features], X_train[target])\n",
    "\n",
    "print(classification_report(X_test[target], dt.predict(X_test[features])))"
   ]
  },
  {
   "cell_type": "code",
   "execution_count": null,
   "metadata": {},
   "outputs": [],
   "source": [
    "ConfusionMatrixDisplay.from_estimator(dt, X_test[features], X_test[target])"
   ]
  },
  {
   "cell_type": "code",
   "execution_count": null,
   "metadata": {},
   "outputs": [],
   "source": [
    "from sklearn.tree import plot_tree\n",
    "\n",
    "plot_tree(dt, feature_names=features, class_names=penguins.species.unique(), filled=True);"
   ]
  },
  {
   "cell_type": "code",
   "execution_count": null,
   "metadata": {},
   "outputs": [],
   "source": [
    "feature = 'flipper_length_mm'\n",
    "threshold = 0.394\n",
    "\n",
    "scaler.inverse_transform(X_train.loc[X_train[feature] <= threshold, features])[:, features.index(feature)].max()"
   ]
  }
 ],
 "metadata": {
  "kernelspec": {
   "display_name": "Python 3",
   "language": "python",
   "name": "python3"
  },
  "language_info": {
   "codemirror_mode": {
    "name": "ipython",
    "version": 3
   },
   "file_extension": ".py",
   "mimetype": "text/x-python",
   "name": "python",
   "nbconvert_exporter": "python",
   "pygments_lexer": "ipython3",
   "version": "3.10.8"
  },
  "orig_nbformat": 4
 },
 "nbformat": 4,
 "nbformat_minor": 2
}
