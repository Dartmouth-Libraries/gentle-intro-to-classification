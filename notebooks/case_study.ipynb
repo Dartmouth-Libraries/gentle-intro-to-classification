{
 "cells": [
  {
   "attachments": {},
   "cell_type": "markdown",
   "metadata": {},
   "source": [
    "# Case Study: Predicting a person's income level\n",
    "\n",
    "Source: [UCI Machine Learning Repository](https://archive.ics.uci.edu/ml/datasets/Adult)\n",
    "\n",
    "Data extracted from a 1994 census.\n",
    "\n",
    "$50,000 in 1994 [are equivalent to approximately](https://www.aier.org/cost-of-living-calculator/?utm_source=Google%20Ads&utm_medium=Google%20CPC&utm_campaign=COLA&gclid=Cj0KCQjw0tKiBhC6ARIsAAOXutmugoX1IdNXAUsady2hgleQ7FkRxVVP5DtVPiaaO4MJz09meKuKOzsaAnCZEALw_wcB) $100,000 in 2023."
   ]
  },
  {
   "attachments": {},
   "cell_type": "markdown",
   "metadata": {},
   "source": [
    "## Importing the required packages"
   ]
  },
  {
   "cell_type": "code",
   "execution_count": null,
   "metadata": {},
   "outputs": [],
   "source": [
    "import matplotlib.pyplot as plt\n",
    "import numpy as np\n",
    "import pandas as pd\n",
    "import seaborn as sns\n",
    "\n",
    "# Add a Dartmouth-y color theme\n",
    "import matplotlib as mpl\n",
    "dartmouth_colors = [\"#00693E\", \"#12312B\", \"#C3DD88\", \"#6EAA8D\", \"#797979\", \"#EBF3EF\"]\n",
    "mpl.rcParams.update({\n",
    "                        'figure.facecolor': \"#EBF3EF\",\n",
    "                        'figure.figsize': [7.50, 3.50],\n",
    "                        'axes.prop_cycle': mpl.cycler(color=dartmouth_colors),\n",
    "                        'axes.facecolor': \"#FFFFFF\",\n",
    "                        'axes.labelcolor': '#12312B',\n",
    "                        'text.color': '#12312B'\n",
    "                    })\n",
    "\n",
    "%config InlineBackend.figure_formats = ['svg']\n"
   ]
  },
  {
   "attachments": {},
   "cell_type": "markdown",
   "metadata": {},
   "source": [
    "## Loading the dataset"
   ]
  },
  {
   "cell_type": "code",
   "execution_count": null,
   "metadata": {},
   "outputs": [],
   "source": [
    "train_df = pd.read_csv('../data/adult.data', header=None)\n",
    "test_df = pd.read_csv('../data/adult.test', header=None, skiprows=1)\n",
    "\n",
    "names = ['age', 'workclass', 'fnlwgt', \n",
    "         'education', 'education_num', 'marital_status',\n",
    "         'occupation', 'relationship', 'race', 'sex',\n",
    "         'capital_gain', 'capital_loss', 'hours_per_week', 'native_country',\n",
    "         'income_level']\n",
    "\n",
    "for df in (train_df, test_df):\n",
    "    df.columns = names\n",
    "    df.drop(columns=['education_num', 'fnlwgt', 'capital_gain', 'capital_loss'], inplace=True)\n",
    "    df.income_level = df.income_level.str.replace('.', '', regex=False)\n",
    "    display(df.sample(5))"
   ]
  },
  {
   "attachments": {},
   "cell_type": "markdown",
   "metadata": {},
   "source": [
    "## Encoding the categorical variables"
   ]
  },
  {
   "cell_type": "code",
   "execution_count": null,
   "metadata": {},
   "outputs": [],
   "source": [
    "train_df = pd.get_dummies(train_df, columns=['workclass', 'marital_status', 'occupation', 'relationship', 'race', 'sex', 'native_country'])\n",
    "train_df.education = train_df.education.str.strip()\n",
    "test_df = pd.get_dummies(test_df, columns=['workclass', 'marital_status', 'occupation', 'relationship', 'race', 'sex', 'native_country'])\n",
    "test_df.education = test_df.education.str.strip()"
   ]
  },
  {
   "cell_type": "code",
   "execution_count": null,
   "metadata": {},
   "outputs": [],
   "source": [
    "from pandas.api.types import CategoricalDtype\n",
    "\n",
    "education_levels = CategoricalDtype(\n",
    "    categories=['Preschool',  '1st-4th', '5th-6th', '7th-8th', '9th', \n",
    "                '10th', '11th', '12th', 'HS-grad', \n",
    "                'Assoc-voc', 'Assoc-acdm', \n",
    "                'Some-college', 'Bachelors', 'Masters', \n",
    "                'Prof-school', 'Doctorate'],\n",
    "    ordered=True\n",
    "    )\n",
    "for df in (train_df, test_df):\n",
    "    df.education = df.education.astype(education_levels).cat.codes"
   ]
  },
  {
   "cell_type": "code",
   "execution_count": null,
   "metadata": {},
   "outputs": [],
   "source": [
    "features = [feature for feature in df.columns if feature != 'income_level']\n",
    "target = 'income_level'\n",
    "\n",
    "X_train = train_df\n",
    "X_test = test_df\n"
   ]
  },
  {
   "attachments": {},
   "cell_type": "markdown",
   "metadata": {},
   "source": [
    "## Train the model"
   ]
  },
  {
   "cell_type": "code",
   "execution_count": null,
   "metadata": {},
   "outputs": [],
   "source": [
    "from sklearn.metrics import classification_report\n",
    "from sklearn.tree import DecisionTreeClassifier\n",
    "from sklearn.model_selection import GridSearchCV\n",
    "\n",
    "candidates = {\n",
    "    'max_depth': [3, 5, 6, 7, 8],\n",
    "}\n",
    "\n",
    "dt = GridSearchCV(DecisionTreeClassifier(class_weight='balanced'), param_grid=candidates, n_jobs=5, verbose=3).fit(X_train[features], X_train[target])\n",
    "\n",
    "print(dt.best_params_)"
   ]
  },
  {
   "attachments": {},
   "cell_type": "markdown",
   "metadata": {},
   "source": [
    "## Interpret the model"
   ]
  },
  {
   "cell_type": "code",
   "execution_count": null,
   "metadata": {},
   "outputs": [],
   "source": [
    "from sklearn.tree import plot_tree\n",
    "\n",
    "plt.figure(figsize=(65, 15))\n",
    "plot_tree(dt.best_estimator_, \n",
    "          feature_names=features, class_names=df[target].unique(), \n",
    "          filled=True, fontsize=10);"
   ]
  },
  {
   "attachments": {},
   "cell_type": "markdown",
   "metadata": {},
   "source": [
    "## Evaluate the model's performance"
   ]
  },
  {
   "cell_type": "code",
   "execution_count": null,
   "metadata": {},
   "outputs": [],
   "source": [
    "print(classification_report(X_test[target], dt.predict(X_test[features])))"
   ]
  },
  {
   "attachments": {},
   "cell_type": "markdown",
   "metadata": {},
   "source": [
    "<table >\n",
    "<tbody>\n",
    "  <tr>\n",
    "    <td style=\"padding:0px;border-width:0px;vertical-align:center\">    \n",
    "    Created by Simon Stone for Dartmouth College Library under <a href=\"https://creativecommons.org/licenses/by/4.0/\">Creative Commons CC BY-NC 4.0 License</a>.<br>For questions, comments, or improvements, email <a href=\"mailto:researchdatahelp@groups.dartmouth.edu\">Research Data Services</a>.\n",
    "    </td>\n",
    "    <td style=\"padding:0 0 0 1em;border-width:0px;vertical-align:center\"><img alt=\"Creative Commons License\" src=\"https://i.creativecommons.org/l/by/4.0/88x31.png\"/></td>\n",
    "  </tr>\n",
    "</tbody>\n",
    "</table>\n"
   ]
  }
 ],
 "metadata": {
  "kernelspec": {
   "display_name": "Python 3",
   "language": "python",
   "name": "python3"
  },
  "language_info": {
   "codemirror_mode": {
    "name": "ipython",
    "version": 3
   },
   "file_extension": ".py",
   "mimetype": "text/x-python",
   "name": "python",
   "nbconvert_exporter": "python",
   "pygments_lexer": "ipython3",
   "version": "3.10.8"
  },
  "orig_nbformat": 4
 },
 "nbformat": 4,
 "nbformat_minor": 2
}
