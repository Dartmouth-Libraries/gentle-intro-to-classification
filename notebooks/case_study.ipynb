{
 "cells": [
  {
   "attachments": {},
   "cell_type": "markdown",
   "metadata": {},
   "source": [
    "# Case Study: Predicting if a mushroom is poisonous\n",
    "\n",
    "Source: https://archive.ics.uci.edu/ml/datasets/Mushroom"
   ]
  },
  {
   "attachments": {},
   "cell_type": "markdown",
   "metadata": {},
   "source": [
    "## Importing the required packages"
   ]
  },
  {
   "cell_type": "code",
   "execution_count": 1,
   "metadata": {},
   "outputs": [],
   "source": [
    "import matplotlib.pyplot as plt\n",
    "import numpy as np\n",
    "import pandas as pd\n",
    "import seaborn as sns\n",
    "\n",
    "# Add a Dartmouth-y color theme\n",
    "import matplotlib as mpl\n",
    "dartmouth_colors = [\"#00693E\", \"#12312B\", \"#C3DD88\", \"#6EAA8D\", \"#797979\", \"#EBF3EF\"]\n",
    "mpl.rcParams.update({\n",
    "                        'figure.facecolor': \"#EBF3EF\",\n",
    "                        'figure.figsize': [7.50, 3.50],\n",
    "                        'axes.prop_cycle': mpl.cycler(color=dartmouth_colors),\n",
    "                        'axes.facecolor': \"#FFFFFF\",\n",
    "                        'axes.labelcolor': '#12312B',\n",
    "                        'text.color': '#12312B'\n",
    "                    })\n",
    "\n",
    "%config InlineBackend.figure_formats = ['retina']\n"
   ]
  },
  {
   "attachments": {},
   "cell_type": "markdown",
   "metadata": {},
   "source": [
    "## Loading the dataset"
   ]
  },
  {
   "attachments": {},
   "cell_type": "markdown",
   "metadata": {},
   "source": [
    "## Encoding the categorical variables"
   ]
  },
  {
   "attachments": {},
   "cell_type": "markdown",
   "metadata": {},
   "source": [
    "## Splitting the data into a training and test set"
   ]
  },
  {
   "attachments": {},
   "cell_type": "markdown",
   "metadata": {},
   "source": [
    "## Train the model"
   ]
  },
  {
   "attachments": {},
   "cell_type": "markdown",
   "metadata": {},
   "source": [
    "## Interpret the model"
   ]
  },
  {
   "attachments": {},
   "cell_type": "markdown",
   "metadata": {},
   "source": [
    "## Evaluate the model's performance"
   ]
  }
 ],
 "metadata": {
  "kernelspec": {
   "display_name": "Python 3",
   "language": "python",
   "name": "python3"
  },
  "language_info": {
   "codemirror_mode": {
    "name": "ipython",
    "version": 3
   },
   "file_extension": ".py",
   "mimetype": "text/x-python",
   "name": "python",
   "nbconvert_exporter": "python",
   "pygments_lexer": "ipython3",
   "version": "3.10.8"
  },
  "orig_nbformat": 4
 },
 "nbformat": 4,
 "nbformat_minor": 2
}
